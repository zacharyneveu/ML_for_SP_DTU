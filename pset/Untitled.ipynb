{
 "cells": [
  {
   "cell_type": "markdown",
   "metadata": {},
   "source": [
    "# Question 3"
   ]
  },
  {
   "cell_type": "code",
   "execution_count": 6,
   "metadata": {},
   "outputs": [],
   "source": [
    "import numpy as np"
   ]
  },
  {
   "cell_type": "code",
   "execution_count": 16,
   "metadata": {},
   "outputs": [],
   "source": [
    "table = np.array([[0, 3.15, 2.6, 5.01, 1.96, 2.93, 4.45, 1],\n",
    "                  [3.15, 0, 2.36, 2.17, 1.71, 1.78, 2.81, 2.63],\n",
    "                  [2.6, 2.36, 0, 3.08, 0.97, 0.72, 1.92, 1.6],\n",
    "                  [5.01, 2.17, 3.08, 0, 3.12, 2.38, 1.92, 4.21],\n",
    "                  [1.96, 1.71, 0.97, 3.12, 0, 1, 2.55, 1.09],\n",
    "                  [2.93, 1.78, 0.72, 2.38, 1, 0, 1.55, 1.99],\n",
    "                  [4.45, 2.81, 1.92, 1.92, 2.55, 1.55, 0, 3.48],\n",
    "                  [1, 2.63, 1.6, 4.21, 1.09, 1.99, 3.48, 0]\n",
    "])"
   ]
  },
  {
   "cell_type": "code",
   "execution_count": 17,
   "metadata": {},
   "outputs": [
    {
     "name": "stdout",
     "output_type": "stream",
     "text": [
      "8\n",
      "8\n",
      "8\n",
      "8\n",
      "8\n",
      "8\n",
      "8\n",
      "8\n"
     ]
    }
   ],
   "source": [
    "for i in table:\n",
    "    print(len(i))"
   ]
  },
  {
   "cell_type": "code",
   "execution_count": 18,
   "metadata": {},
   "outputs": [
    {
     "data": {
      "text/plain": [
       "array([[0.  , 3.15, 2.6 , 5.01, 1.96, 2.93, 4.45, 1.  ],\n",
       "       [3.15, 0.  , 2.36, 2.17, 1.71, 1.78, 2.81, 2.63],\n",
       "       [2.6 , 2.36, 0.  , 3.08, 0.97, 0.72, 1.92, 1.6 ],\n",
       "       [5.01, 2.17, 3.08, 0.  , 3.12, 2.38, 1.92, 4.21],\n",
       "       [1.96, 1.71, 0.97, 3.12, 0.  , 1.  , 2.55, 1.09],\n",
       "       [2.93, 1.78, 0.72, 2.38, 1.  , 0.  , 1.55, 1.99],\n",
       "       [4.45, 2.81, 1.92, 1.92, 2.55, 1.55, 0.  , 3.48],\n",
       "       [1.  , 2.63, 1.6 , 4.21, 1.09, 1.99, 3.48, 0.  ]])"
      ]
     },
     "execution_count": 18,
     "metadata": {},
     "output_type": "execute_result"
    }
   ],
   "source": [
    "table"
   ]
  },
  {
   "cell_type": "code",
   "execution_count": 23,
   "metadata": {},
   "outputs": [],
   "source": [
    "import heapq"
   ]
  },
  {
   "cell_type": "code",
   "execution_count": null,
   "metadata": {},
   "outputs": [],
   "source": [
    "def classify(table, query, n):\n",
    "    "
   ]
  },
  {
   "cell_type": "code",
   "execution_count": 47,
   "metadata": {},
   "outputs": [],
   "source": [
    "def get_nearest(table, query, n):\n",
    "    return np.argsort(table[query-1][:])[1:n+1]+1"
   ]
  },
  {
   "cell_type": "code",
   "execution_count": 48,
   "metadata": {},
   "outputs": [
    {
     "data": {
      "text/plain": [
       "array([6, 5, 8])"
      ]
     },
     "execution_count": 48,
     "metadata": {},
     "output_type": "execute_result"
    }
   ],
   "source": [
    "get_nearest(table, 3, 3)"
   ]
  },
  {
   "cell_type": "code",
   "execution_count": 57,
   "metadata": {},
   "outputs": [],
   "source": [
    "from termcolor import colored\n",
    "import sys"
   ]
  },
  {
   "cell_type": "code",
   "execution_count": 70,
   "metadata": {},
   "outputs": [
    {
     "name": "stdout",
     "output_type": "stream",
     "text": [
      "Q1 -> Q8,Q5,Q3 -> \u001b[34mblue\u001b[0m,\u001b[34mblue\u001b[0m,\u001b[31mred\u001b[0m -> \u001b[34mblue\u001b[0m\n",
      "Q2 -> Q5,Q6,Q4 -> \u001b[34mblue\u001b[0m,\u001b[34mblue\u001b[0m,\u001b[31mred\u001b[0m -> \u001b[34mblue\u001b[0m\n",
      "Q3 -> Q6,Q5,Q8 -> \u001b[34mblue\u001b[0m,\u001b[34mblue\u001b[0m,\u001b[34mblue\u001b[0m -> \u001b[34mblue\u001b[0m\n",
      "Q4 -> Q7,Q2,Q6 -> \u001b[34mblue\u001b[0m,\u001b[31mred\u001b[0m,\u001b[34mblue\u001b[0m -> \u001b[34mblue\u001b[0m\n",
      "Q5 -> Q3,Q6,Q8 -> \u001b[31mred\u001b[0m,\u001b[34mblue\u001b[0m,\u001b[34mblue\u001b[0m -> \u001b[34mblue\u001b[0m\n",
      "Q6 -> Q3,Q5,Q7 -> \u001b[31mred\u001b[0m,\u001b[34mblue\u001b[0m,\u001b[34mblue\u001b[0m -> \u001b[34mblue\u001b[0m\n",
      "Q7 -> Q6,Q3,Q4 -> \u001b[34mblue\u001b[0m,\u001b[31mred\u001b[0m,\u001b[31mred\u001b[0m -> \u001b[31mred\u001b[0m\n",
      "Q8 -> Q1,Q5,Q3 -> \u001b[31mred\u001b[0m,\u001b[34mblue\u001b[0m,\u001b[31mred\u001b[0m -> \u001b[31mred\u001b[0m\n"
     ]
    }
   ],
   "source": [
    "for n in range(1,9):\n",
    "    nn = get_nearest(table, n, 3)\n",
    "    colors = [colored(\"red\", \"red\") if n < 5 else colored(\"blue\",\"blue\") for n in nn]\n",
    "    #[sys.stdout.write(colored(nn[n], colors[n])) for n in range(len(nn))]\n",
    "    #sys.stdout.write('\\n')\n",
    "    Qs = [f'Q{i}' for i in nn]\n",
    "    print(f'Q{n} -> {\",\".join(Qs)} -> {\",\".join(colors)} -> {max(set(colors), key=colors.count)}')"
   ]
  },
  {
   "cell_type": "code",
   "execution_count": 69,
   "metadata": {},
   "outputs": [
    {
     "data": {
      "text/plain": [
       "0.9473684210526315"
      ]
     },
     "execution_count": 69,
     "metadata": {},
     "output_type": "execute_result"
    }
   ],
   "source": [
    "36/38"
   ]
  },
  {
   "cell_type": "markdown",
   "metadata": {},
   "source": [
    "# Problem 8"
   ]
  },
  {
   "cell_type": "code",
   "execution_count": 71,
   "metadata": {},
   "outputs": [],
   "source": [
    "from scipy import signal as sg"
   ]
  },
  {
   "cell_type": "code",
   "execution_count": 85,
   "metadata": {},
   "outputs": [],
   "source": [
    "import matplotlib.pyplot as plt"
   ]
  },
  {
   "cell_type": "code",
   "execution_count": 104,
   "metadata": {},
   "outputs": [],
   "source": [
    "x = np.zeros((9,1))\n",
    "for i in range(7):\n",
    "    x[i+2] = 1/3*i"
   ]
  },
  {
   "cell_type": "code",
   "execution_count": 105,
   "metadata": {},
   "outputs": [
    {
     "data": {
      "text/plain": [
       "<StemContainer object of 3 artists>"
      ]
     },
     "execution_count": 105,
     "metadata": {},
     "output_type": "execute_result"
    },
    {
     "data": {
      "image/png": "[encoded data removed]",
      "text/plain": [
       "<Figure size 432x288 with 1 Axes>"
      ]
     },
     "metadata": {
      "needs_background": "light"
     },
     "output_type": "display_data"
    }
   ],
   "source": [
    "plt.stem(range(-2,7),x)"
   ]
  },
  {
   "cell_type": "code",
   "execution_count": 106,
   "metadata": {},
   "outputs": [],
   "source": [
    "h = np.zeros((9,1))\n",
    "for i in range(-2,3):\n",
    "    h[i+2] = 1"
   ]
  },
  {
   "cell_type": "code",
   "execution_count": 107,
   "metadata": {},
   "outputs": [
    {
     "data": {
      "text/plain": [
       "<StemContainer object of 3 artists>"
      ]
     },
     "execution_count": 107,
     "metadata": {},
     "output_type": "execute_result"
    },
    {
     "data": {
      "image/png": "[encoded data removed]",
      "text/plain": [
       "<Figure size 432x288 with 1 Axes>"
      ]
     },
     "metadata": {
      "needs_background": "light"
     },
     "output_type": "display_data"
    }
   ],
   "source": [
    "plt.stem(range(-2,7), h)"
   ]
  },
  {
   "cell_type": "code",
   "execution_count": 95,
   "metadata": {},
   "outputs": [
    {
     "name": "stderr",
     "output_type": "stream",
     "text": [
      "/home/zach/anaconda3/lib/python3.7/site-packages/scipy/signal/signaltools.py:491: FutureWarning: Using a non-tuple sequence for multidimensional indexing is deprecated; use `arr[tuple(seq)]` instead of `arr[seq]`. In the future this will be interpreted as an array index, `arr[np.array(seq)]`, which will result either in an error or a different result.\n",
      "  return x[reverse].conj()\n",
      "/home/zach/anaconda3/lib/python3.7/site-packages/scipy/signal/signaltools.py:251: FutureWarning: Using a non-tuple sequence for multidimensional indexing is deprecated; use `arr[tuple(seq)]` instead of `arr[seq]`. In the future this will be interpreted as an array index, `arr[np.array(seq)]`, which will result either in an error or a different result.\n",
      "  in1zpadded[sc] = in1.copy()\n"
     ]
    }
   ],
   "source": [
    "res = sg.convolve(x,h)"
   ]
  },
  {
   "cell_type": "code",
   "execution_count": 99,
   "metadata": {},
   "outputs": [
    {
     "data": {
      "text/plain": [
       "<StemContainer object of 3 artists>"
      ]
     },
     "execution_count": 99,
     "metadata": {},
     "output_type": "execute_result"
    },
    {
     "data": {
      "image/png": "[encoded data removed]",
      "text/plain": [
       "<Figure size 432x288 with 1 Axes>"
      ]
     },
     "metadata": {
      "needs_background": "light"
     },
     "output_type": "display_data"
    }
   ],
   "source": [
    "plt.stem(range(-2,15), res)"
   ]
  },
  {
   "cell_type": "markdown",
   "metadata": {},
   "source": [
    "$$\n",
    "1/6 n^2\n",
    "$$"
   ]
  }
 ],
 "metadata": {
  "kernelspec": {
   "display_name": "Python 3",
   "language": "python",
   "name": "python3"
  },
  "language_info": {
   "codemirror_mode": {
    "name": "ipython",
    "version": 3
   },
   "file_extension": ".py",
   "mimetype": "text/x-python",
   "name": "python",
   "nbconvert_exporter": "python",
   "pygments_lexer": "ipython3",
   "version": "3.7.1"
  }
 },
 "nbformat": 4,
 "nbformat_minor": 2
}
